{
  "nbformat": 4,
  "nbformat_minor": 0,
  "metadata": {
    "colab": {
      "provenance": []
    },
    "kernelspec": {
      "name": "python3",
      "display_name": "Python 3"
    },
    "language_info": {
      "name": "python"
    }
  },
  "cells": [
    {
      "cell_type": "markdown",
      "source": [
        "# Setup"
      ],
      "metadata": {
        "id": "9ycRXdeqcgbz"
      }
    },
    {
      "cell_type": "code",
      "execution_count": null,
      "metadata": {
        "id": "dxGSiOiZ1Ctr"
      },
      "outputs": [],
      "source": [
        "!pip install pyinterval"
      ]
    },
    {
      "cell_type": "code",
      "source": [
        "from interval import interval, inf, imath"
      ],
      "metadata": {
        "id": "bGDCAwnO12dg"
      },
      "execution_count": null,
      "outputs": []
    },
    {
      "cell_type": "code",
      "source": [
        "import numpy as np\n",
        "import sympy"
      ],
      "metadata": {
        "id": "SmGN2M4lCBun"
      },
      "execution_count": null,
      "outputs": []
    },
    {
      "cell_type": "code",
      "source": [
        "import math"
      ],
      "metadata": {
        "id": "GfdPXavUCQZ5"
      },
      "execution_count": null,
      "outputs": []
    },
    {
      "cell_type": "code",
      "source": [
        "import matplotlib.pyplot as plt\n",
        "%matplotlib inline"
      ],
      "metadata": {
        "id": "tkGs6hDwC0Jk"
      },
      "execution_count": null,
      "outputs": []
    },
    {
      "cell_type": "code",
      "source": [
        "a = 1/2\n",
        "b = 1/2"
      ],
      "metadata": {
        "id": "p68IVQ3QlaqH"
      },
      "execution_count": null,
      "outputs": []
    },
    {
      "cell_type": "markdown",
      "source": [
        "# Part 1 of Lemma 3.1"
      ],
      "metadata": {
        "id": "m487-zUWhWWd"
      }
    },
    {
      "cell_type": "markdown",
      "source": [
        "The proof of $\\Psi(1/2,6)>0.2$"
      ],
      "metadata": {
        "id": "MiNT2iqdtIRi"
      }
    },
    {
      "cell_type": "code",
      "source": [
        "def cubicroot(x):\n",
        "#  return x**(1/3)\n",
        "  return imath.exp(imath.log(x)/3)\n",
        "\n",
        "def zeta(b,q):\n",
        "  return (2/9)*(b**2/((b+1)*(b+2)))*((b+q+3)*(b+q+4)/(b+q+2)**2)\n",
        "\n",
        "def psi(zeta):\n",
        "  tmp = imath.sqrt(1-zeta)\n",
        "  return cubicroot(zeta)*(cubicroot(1+tmp)+cubicroot(1-tmp))\n",
        "\n",
        "def Psi(b,q):\n",
        "  tmp = zeta(b,q)\n",
        "  return (4/3)*(b/(1-b))*((b+q+1)/(b+q+2))-2*psi(tmp)-psi(tmp)**2"
      ],
      "metadata": {
        "id": "hy2oQa3GmjX1"
      },
      "execution_count": null,
      "outputs": []
    },
    {
      "cell_type": "code",
      "source": [
        "Psi(1/2,6)"
      ],
      "metadata": {
        "colab": {
          "base_uri": "https://localhost:8080/"
        },
        "id": "W3eK4PXDoHgB",
        "outputId": "e2d89372-ca6f-4136-c531-714c091e16e8"
      },
      "execution_count": null,
      "outputs": [
        {
          "output_type": "execute_result",
          "data": {
            "text/plain": [
              "interval([0.2068439132393934, 0.20684391323939547])"
            ]
          },
          "metadata": {},
          "execution_count": 71
        }
      ]
    },
    {
      "cell_type": "markdown",
      "source": [
        "# Lemma 4.1"
      ],
      "metadata": {
        "id": "or5M8qQBsGD9"
      }
    },
    {
      "cell_type": "markdown",
      "source": [
        "## Part 1"
      ],
      "metadata": {
        "id": "hu9T4mfctnFw"
      }
    },
    {
      "cell_type": "markdown",
      "source": [
        "Recall\n",
        "$$a=b=\\frac{1}{2}, \\quad r=\\frac{p}{2}+a+b$$."
      ],
      "metadata": {
        "id": "Unn49mE3sGD9"
      }
    },
    {
      "cell_type": "markdown",
      "source": [
        "As in Appendix B, define\n",
        "\\begin{equation}\n",
        "f_N(w;\\gamma)=(1+\\gamma)+\\frac{b-1+\\gamma b}{r+1}w\n",
        "+\\sum_{i=2}^N\n",
        "\\{(b-1)+\\gamma (b+i-1)\\}\\frac{b\\dots(b+i-2)}{(r+1)\\dots(r+i)}\\frac{w^i}{i!}.\n",
        "\\end{equation}"
      ],
      "metadata": {
        "id": "VKdcJ-0wsGD9"
      }
    },
    {
      "cell_type": "markdown",
      "source": [
        "Let\n",
        "$$\\gamma=\\frac{1}{8} \\text{ and } N=8.$$\n",
        "\n",
        "Then we have\n",
        "$$\n",
        "(1+\\gamma)=\\frac{9}{8},\\quad b-1+\\gamma b =-\\frac{1}{2}+\\frac{1}{16}=-\\frac{7}{16}\n",
        "$$\n",
        "and\n",
        "$$\n",
        "b-1+\\gamma b + \\gamma(i-1)=\\frac{-7+2(i-1)}{16}\n",
        "$$\n",
        "for $i=2,\\dots,8$."
      ],
      "metadata": {
        "id": "J9Oci2GcsGD-"
      }
    },
    {
      "cell_type": "code",
      "source": [
        "p = 10 # You can choose p from 7,8,9,10.\n",
        "r = p/2+a+b"
      ],
      "metadata": {
        "id": "7wgGePCqsGD-"
      },
      "execution_count": null,
      "outputs": []
    },
    {
      "cell_type": "code",
      "source": [
        "N = 8\n",
        "bb = [b + i for i in range(N-1)]\n",
        "rr = [r + i + 1 for i in range(N)]\n",
        "my_keisu_1 = [18, -7/(r+1)]\n",
        "my_keisu_2 = [(2*i-5)*math.prod(bb[0:(i+1)])/math.prod(rr[0:(i+2)]) for i in range(N-1)]\n",
        "my_keisu = my_keisu_1 + my_keisu_2"
      ],
      "metadata": {
        "id": "jFtwgtGRjh0F"
      },
      "execution_count": null,
      "outputs": []
    },
    {
      "cell_type": "markdown",
      "source": [
        "$F(w)= 16 \\times f_8(w;\\gamma) $"
      ],
      "metadata": {
        "id": "SrZOHWZLP01f"
      }
    },
    {
      "cell_type": "markdown",
      "source": [
        "Definition of $F$, the derivative of $F$, `Fp` and the second derivative of $F$, `Fpp`"
      ],
      "metadata": {
        "id": "4979n0-Iw7cl"
      }
    },
    {
      "cell_type": "code",
      "source": [
        "def F(x):\n",
        "  myg = my_keisu[0]\n",
        "  for i in range(1,N+1):\n",
        "    myg = my_keisu[i]*x**i/math.factorial(i) + myg\n",
        "  return myg"
      ],
      "metadata": {
        "id": "d5f8Yz2Qjh0F"
      },
      "execution_count": null,
      "outputs": []
    },
    {
      "cell_type": "code",
      "source": [
        "def Fp(x):\n",
        "  mygp = my_keisu[1]\n",
        "  for i in range(1,N):\n",
        "    mygp = my_keisu[i+1]*x**i/math.factorial(i) + mygp\n",
        "  return mygp"
      ],
      "metadata": {
        "id": "GcdkDnCDjh0F"
      },
      "execution_count": null,
      "outputs": []
    },
    {
      "cell_type": "code",
      "source": [
        "def Fpp(x):\n",
        "  mygpp = my_keisu[2]\n",
        "  for i in range(1,N-1):\n",
        "    mygpp = my_keisu[i+2]*x**i/math.factorial(i) + mygpp\n",
        "  return mygpp"
      ],
      "metadata": {
        "id": "7KnIbqHcjh0F"
      },
      "execution_count": null,
      "outputs": []
    },
    {
      "cell_type": "markdown",
      "source": [
        "Graphs of `F`, `Fp`, and `Fpp`"
      ],
      "metadata": {
        "id": "2KQDTQEaSPyQ"
      }
    },
    {
      "cell_type": "code",
      "source": [
        "x_l = 10\n",
        "x_u = 15"
      ],
      "metadata": {
        "id": "4K5xOLcbsGD_"
      },
      "execution_count": null,
      "outputs": []
    },
    {
      "cell_type": "code",
      "source": [
        "x = np.linspace(x_l,x_u,50)\n",
        "y = F(x)\n",
        "plt.plot(x, y)\n",
        "plt.show()"
      ],
      "metadata": {
        "id": "kxVXfa9JsGD_",
        "colab": {
          "base_uri": "https://localhost:8080/",
          "height": 430
        },
        "outputId": "147f7195-9d70-4c7c-d778-c94cc1bc59ed"
      },
      "execution_count": null,
      "outputs": [
        {
          "output_type": "display_data",
          "data": {
            "text/plain": [
              "<Figure size 640x480 with 1 Axes>"
            ],
            "image/png": "[encoded data removed]"
          },
          "metadata": {}
        }
      ]
    },
    {
      "cell_type": "code",
      "source": [
        "y = Fp(x)\n",
        "z = np.linspace(0,0,50)\n",
        "plt.plot(x, y)\n",
        "plt.plot(x, z)\n",
        "plt.show()"
      ],
      "metadata": {
        "id": "M7dWGclIsGD_",
        "colab": {
          "base_uri": "https://localhost:8080/",
          "height": 430
        },
        "outputId": "e8264e46-e7ef-42c7-9483-5df1cb485681"
      },
      "execution_count": null,
      "outputs": [
        {
          "output_type": "display_data",
          "data": {
            "text/plain": [
              "<Figure size 640x480 with 1 Axes>"
            ],
            "image/png": "[encoded data removed]"
          },
          "metadata": {}
        }
      ]
    },
    {
      "cell_type": "code",
      "source": [
        "y = Fpp(x)\n",
        "plt.plot(x, y)\n",
        "plt.show()"
      ],
      "metadata": {
        "id": "0KX1h2VTsGD_",
        "colab": {
          "base_uri": "https://localhost:8080/",
          "height": 430
        },
        "outputId": "df0e8912-a030-4f0b-e11b-f4a6a48e8842"
      },
      "execution_count": null,
      "outputs": [
        {
          "output_type": "display_data",
          "data": {
            "text/plain": [
              "<Figure size 640x480 with 1 Axes>"
            ],
            "image/png": "[encoded data removed]"
          },
          "metadata": {}
        }
      ]
    },
    {
      "cell_type": "markdown",
      "source": [
        "The interval Newton method for $F'(x)=0$"
      ],
      "metadata": {
        "id": "c2KPJopG2EnX"
      }
    },
    {
      "cell_type": "code",
      "source": [
        "X = interval[x_l,x_u]\n",
        "for i in range(10):\n",
        "  mid = (X[0].inf+X[0].sup)/2\n",
        "  tmp = mid-Fp(mid)/Fpp(X)\n",
        "  X = interval[max(X[0].inf, tmp[0].inf), min(X[0].sup, tmp[0].sup)]\n",
        "  print(X)"
      ],
      "metadata": {
        "id": "IredzwgvsGD_",
        "colab": {
          "base_uri": "https://localhost:8080/"
        },
        "outputId": "47476fc0-ce1e-4c6a-ce73-60826ce132ed"
      },
      "execution_count": null,
      "outputs": [
        {
          "output_type": "stream",
          "name": "stdout",
          "text": [
            "interval([12.774465736115975, 15.0])\n",
            "interval([12.86948469586417, 13.503121261630165])\n",
            "interval([13.188728435656822, 13.189569279054375])\n",
            "interval([13.189106005330046, 13.189106022224898])\n",
            "interval([13.189106013368718, 13.18910601336872])\n",
            "interval([13.189106013368718, 13.18910601336872])\n",
            "interval([13.189106013368718, 13.18910601336872])\n",
            "interval([13.189106013368718, 13.18910601336872])\n",
            "interval([13.189106013368718, 13.18910601336872])\n",
            "interval([13.189106013368718, 13.18910601336872])\n"
          ]
        }
      ]
    },
    {
      "cell_type": "code",
      "source": [
        "F(X)"
      ],
      "metadata": {
        "id": "YCZ9VqBDsGD_",
        "colab": {
          "base_uri": "https://localhost:8080/"
        },
        "outputId": "d389b020-648a-47ba-a18f-2e45c0389dc1"
      },
      "execution_count": null,
      "outputs": [
        {
          "output_type": "execute_result",
          "data": {
            "text/plain": [
              "interval([2.7986430673197367, 2.798643067319754])"
            ]
          },
          "metadata": {},
          "execution_count": 82
        }
      ]
    },
    {
      "cell_type": "markdown",
      "source": [
        "## Part 2"
      ],
      "metadata": {
        "id": "_w8BBY2MPPN8"
      }
    },
    {
      "cell_type": "markdown",
      "source": [
        "Recall\n",
        "$$a=b=\\frac{1}{2},\\quad p=7,\\quad r=\\frac{p}{2}+a+b=\\frac{9}{2}$$"
      ],
      "metadata": {
        "id": "8UPeGzKO6Yl8"
      }
    },
    {
      "cell_type": "markdown",
      "source": [
        "Let\n",
        "$$\\gamma=\\frac{1}{10}\\quad\\text{and}\\quad N=20.$$\n",
        "Then\n",
        "$$\n",
        "(1+\\gamma)=\\frac{11}{10}\\quad b-1+\\gamma b =-\\frac{1}{2}+\\frac{1}{20}=-\\frac{9}{20}\n",
        "$$\n",
        "and\n",
        "$$\n",
        "b-1+\\gamma b + \\gamma(i-1)=\\frac{-9+2(i-1)}{20}\n",
        "$$\n",
        "for $i=2,\\dots,20$."
      ],
      "metadata": {
        "id": "ZZTLSphB6tDr"
      }
    },
    {
      "cell_type": "markdown",
      "source": [
        "$F(w)= 20 \\times f_{20}(w;\\gamma) $"
      ],
      "metadata": {
        "id": "aVxcVD-w6XK8"
      }
    },
    {
      "cell_type": "markdown",
      "source": [
        "Definition of $F$ and the derivative of $F$, `Fp`"
      ],
      "metadata": {
        "id": "PvK4whUS6XLE"
      }
    },
    {
      "cell_type": "code",
      "source": [
        "p = 7\n",
        "r = p/2+a+b"
      ],
      "metadata": {
        "id": "v4Qu2fD6YV-d"
      },
      "execution_count": null,
      "outputs": []
    },
    {
      "cell_type": "code",
      "source": [
        "N = 20\n",
        "bb = [b + i for i in range(N-1)]\n",
        "rr = [r + i + 1 for i in range(N)]\n",
        "my_keisu_1 = [22, -9/(r+1)]\n",
        "my_keisu_2 = [(2*i-7)*math.prod(bb[0:(i+1)])/math.prod(rr[0:(i+2)]) for i in range(N-1)]\n",
        "my_keisu = my_keisu_1 + my_keisu_2"
      ],
      "metadata": {
        "id": "mdvCgwZ41yyh"
      },
      "execution_count": null,
      "outputs": []
    },
    {
      "cell_type": "code",
      "source": [
        "def f(x):\n",
        "  myg = my_keisu[0]\n",
        "  for i in range(1,N+1):\n",
        "    myg = my_keisu[i]*x**i/math.factorial(i) + myg\n",
        "  return myg"
      ],
      "metadata": {
        "id": "eFu3RKSEyNK6"
      },
      "execution_count": null,
      "outputs": []
    },
    {
      "cell_type": "code",
      "source": [
        "def fp(x):\n",
        "  mygp = my_keisu[1]\n",
        "  for i in range(1,N):\n",
        "    mygp = my_keisu[i+1]*x**i/math.factorial(i) + mygp\n",
        "  return mygp"
      ],
      "metadata": {
        "id": "iLE7zHXZDQZq"
      },
      "execution_count": null,
      "outputs": []
    },
    {
      "cell_type": "markdown",
      "source": [
        "Graphs of `F` and `Fp`"
      ],
      "metadata": {
        "id": "g96JHgHBx58v"
      }
    },
    {
      "cell_type": "code",
      "source": [
        "x_l = 9.5\n",
        "x_u = 12.5"
      ],
      "metadata": {
        "id": "tb86W50ZERpb"
      },
      "execution_count": null,
      "outputs": []
    },
    {
      "cell_type": "code",
      "source": [
        "x = np.linspace(x_l,x_u, 50)\n",
        "y = f(x)\n",
        "plt.plot(x, y)\n",
        "z = np.linspace(0,0,50)\n",
        "plt.plot(x, z)\n",
        "plt.show()"
      ],
      "metadata": {
        "colab": {
          "base_uri": "https://localhost:8080/",
          "height": 432
        },
        "id": "itx4fD6yRvzd",
        "outputId": "000e4848-350a-4ae6-9457-32d8e32cff47"
      },
      "execution_count": null,
      "outputs": [
        {
          "output_type": "display_data",
          "data": {
            "text/plain": [
              "<Figure size 640x480 with 1 Axes>"
            ],
            "image/png": "[encoded data removed]"
          },
          "metadata": {}
        }
      ]
    },
    {
      "cell_type": "code",
      "source": [
        "y = fp(x)\n",
        "z = np.linspace(0,0,50)\n",
        "plt.plot(x, y)\n",
        "plt.plot(x, z)\n",
        "plt.show()"
      ],
      "metadata": {
        "colab": {
          "base_uri": "https://localhost:8080/",
          "height": 430
        },
        "id": "t0l4-eMhDARv",
        "outputId": "d4bf2f9c-2ab5-4071-906d-c5c448160713"
      },
      "execution_count": null,
      "outputs": [
        {
          "output_type": "display_data",
          "data": {
            "text/plain": [
              "<Figure size 640x480 with 1 Axes>"
            ],
            "image/png": "[encoded data removed]"
          },
          "metadata": {}
        }
      ]
    },
    {
      "cell_type": "markdown",
      "source": [
        "The smaller solution of $F(x)=0$"
      ],
      "metadata": {
        "id": "Bk--84SW8Zdm"
      }
    },
    {
      "cell_type": "code",
      "source": [
        "X_smaller = interval[9,11]\n",
        "for i in range(10):\n",
        "  mid = (X_smaller[0].inf+X_smaller[0].sup)/2\n",
        "  tmp = mid-f(mid)/fp(X_smaller)\n",
        "  X_smaller = interval[max(X_smaller[0].inf,tmp[0].inf), min(X_smaller[0].sup,tmp[0].sup)]\n",
        "  print(X_smaller)"
      ],
      "metadata": {
        "id": "2emVpaFrTzPo",
        "colab": {
          "base_uri": "https://localhost:8080/"
        },
        "outputId": "baf1d65a-3fda-4e98-914b-0f28c998c3df"
      },
      "execution_count": null,
      "outputs": [
        {
          "output_type": "stream",
          "name": "stdout",
          "text": [
            "interval([9.0, 9.749203161961281])\n",
            "interval([9.568032963635426, 9.66059760344067])\n",
            "interval([9.606860657111076, 9.60727478178188])\n",
            "interval([9.607084006305325, 9.607084010439147])\n",
            "interval([9.607084008410354, 9.607084008410355])\n",
            "interval([9.607084008410354, 9.607084008410355])\n",
            "interval([9.607084008410354, 9.607084008410355])\n",
            "interval([9.607084008410354, 9.607084008410355])\n",
            "interval([9.607084008410354, 9.607084008410355])\n",
            "interval([9.607084008410354, 9.607084008410355])\n"
          ]
        }
      ]
    },
    {
      "cell_type": "markdown",
      "source": [
        "The larger solution of $F(x)=0$"
      ],
      "metadata": {
        "id": "WESWe9268hxI"
      }
    },
    {
      "cell_type": "code",
      "source": [
        "X_larger = interval[12,13]\n",
        "for i in range(10):\n",
        "  mid = (X_larger[0].inf+X_larger[0].sup)/2\n",
        "  tmp = mid-f(mid)/fp(X_larger)\n",
        "  X_larger = interval[max(X_larger[0].inf,tmp[0].inf), min(X_larger[0].sup,tmp[0].sup)]\n",
        "  print(X_larger)"
      ],
      "metadata": {
        "id": "UazKxWx-JZ5m",
        "colab": {
          "base_uri": "https://localhost:8080/"
        },
        "outputId": "9f2a9741-0b50-4f73-92ac-f466f2826896"
      },
      "execution_count": null,
      "outputs": [
        {
          "output_type": "stream",
          "name": "stdout",
          "text": [
            "interval([12.0, 12.320369313870257])\n",
            "interval([12.064980138889286, 12.103326613510188])\n",
            "interval([12.083940222597732, 12.083953523375362])\n",
            "interval([12.083947009879418, 12.083947009882479])\n",
            "interval([12.083947009880934, 12.083947009880935])\n",
            "interval([12.083947009880934, 12.083947009880935])\n",
            "interval([12.083947009880934, 12.083947009880935])\n",
            "interval([12.083947009880934, 12.083947009880935])\n",
            "interval([12.083947009880934, 12.083947009880935])\n",
            "interval([12.083947009880934, 12.083947009880935])\n"
          ]
        }
      ]
    },
    {
      "cell_type": "markdown",
      "source": [
        "Together with Lemma C.1, we see that $ 20 \\times f_{20}(w;\\gamma) >0$ if either\n",
        "$0<w \\leq $ `X_smaller[0].inf` or\n",
        "$w \\geq $ `X_larger[0].sup`"
      ],
      "metadata": {
        "id": "R5Ug_26HTCNR"
      }
    },
    {
      "cell_type": "markdown",
      "source": [
        "## Part 3"
      ],
      "metadata": {
        "id": "V7fkScCTMt7B"
      }
    },
    {
      "cell_type": "markdown",
      "source": [
        "Set  \n",
        "`w_lower`=`9.6`<`X_smaller[0].inf`  \n",
        "and  \n",
        "`w_upper`=`12.1`>`X_larger[0].sup`."
      ],
      "metadata": {
        "id": "s5l6ElXJMzCh"
      }
    },
    {
      "cell_type": "code",
      "source": [
        "w_lower = 9.6\n",
        "w_upper = 12.1"
      ],
      "metadata": {
        "id": "cUrSssv06Z43"
      },
      "execution_count": null,
      "outputs": []
    },
    {
      "cell_type": "markdown",
      "source": [
        "`ratio_M` The approximation of\n",
        "$$\n",
        "\\frac{-M(-1/2,p/2+1,w)}{M(1/2,p/2+1,w)}\n",
        "$$\n",
        "based on (B.1) and (B.3) from Supplementary Materials"
      ],
      "metadata": {
        "id": "Ih58ZuLL_mZI"
      }
    },
    {
      "cell_type": "code",
      "source": [
        "L = 20\n",
        "br_1 = [(b-1+i)/(r+i) for i in range(L+1)]\n",
        "br_2 = [(b+i)/(r+i) for i in range(L+1)]\n",
        "br_3 = math.prod(br_2[0:(L+1)])"
      ],
      "metadata": {
        "id": "59tBzXNF_bKC"
      },
      "execution_count": null,
      "outputs": []
    },
    {
      "cell_type": "code",
      "source": [
        "def ratio_M(x):\n",
        "  tmp_1 = 1\n",
        "  tmp_2 = 1 + br_3*(math.exp(w_upper)-1)\n",
        "  for i in range(1, L):\n",
        "    tmp =  x**i/math.factorial(i)\n",
        "    tmp_1 =  math.prod(br_1[0:i])*tmp + tmp_1\n",
        "    tmp_2 =  (math.prod(br_2[0:i])-br_3)*tmp + tmp_2\n",
        "  return -tmp_1/tmp_2"
      ],
      "metadata": {
        "id": "jcx9bJh8C5gM"
      },
      "execution_count": null,
      "outputs": []
    },
    {
      "cell_type": "markdown",
      "source": [
        "Graph of `ratio_M`"
      ],
      "metadata": {
        "id": "DbQgDqd0AMC5"
      }
    },
    {
      "cell_type": "code",
      "source": [
        "x = np.linspace(w_lower, w_upper, 50)\n",
        "y = ratio_M(x)\n",
        "plt.plot(x, y)\n",
        "plt.show()"
      ],
      "metadata": {
        "id": "cKRpAQy41znH",
        "colab": {
          "base_uri": "https://localhost:8080/",
          "height": 430
        },
        "outputId": "944e01cf-9627-4606-f78c-a00df9e487fb"
      },
      "execution_count": null,
      "outputs": [
        {
          "output_type": "display_data",
          "data": {
            "text/plain": [
              "<Figure size 640x480 with 1 Axes>"
            ],
            "image/png": "[encoded data removed]"
          },
          "metadata": {}
        }
      ]
    },
    {
      "cell_type": "code",
      "source": [
        "LL = 12\n",
        "for i in range(LL):\n",
        "  tmp_3 = w_lower + i*(w_upper - w_lower)/LL\n",
        "  tmp_4 = interval[tmp_3,tmp_3+(w_upper - w_lower)/LL]\n",
        "  print(ratio_M(tmp_4))"
      ],
      "metadata": {
        "id": "xdXfLTWKC0e6",
        "colab": {
          "base_uri": "https://localhost:8080/"
        },
        "outputId": "90a83f3b-861b-4963-dde8-aec0e8602b6c"
      },
      "execution_count": null,
      "outputs": [
        {
          "output_type": "stream",
          "name": "stdout",
          "text": [
            "interval([0.08555593813708481, 0.10358031012819507])\n",
            "interval([0.08661423202521457, 0.10510426953265398])\n",
            "interval([0.08728165039723923, 0.10618588707556206])\n",
            "interval([0.08758831967315843, 0.10685284670942967])\n",
            "interval([0.08756698572723169, 0.10713672544285287])\n",
            "interval([0.0872520324867329, 0.10707195706072856])\n",
            "interval([0.08667854775559838, 0.10669479271622852])\n",
            "interval([0.08588147398286054, 0.10604230842055655])\n",
            "interval([0.08489487099843117, 0.10515149988690851])\n",
            "interval([0.08375130680508469, 0.10405849394316173])\n",
            "interval([0.08248138239813961, 0.10279789417632444])\n",
            "interval([0.08111338801875884, 0.10140226773439275])\n"
          ]
        }
      ]
    }
  ]
}